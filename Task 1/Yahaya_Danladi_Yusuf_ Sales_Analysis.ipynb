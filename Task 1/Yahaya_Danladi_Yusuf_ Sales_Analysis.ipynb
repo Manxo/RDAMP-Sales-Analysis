{
 "cells": [
  {
   "cell_type": "markdown",
   "id": "5bde2f41-7c1f-4b52-acf9-1c1b3a69702a",
   "metadata": {},
   "source": [
    "# Project: Task 1"
   ]
  },
  {
   "cell_type": "markdown",
   "id": "fbbced04-5ba8-45c7-8076-22b2314bd1bf",
   "metadata": {},
   "source": [
    "##### Problem Description\n",
    "ACE, a nationwide retail chain, has seen significant sales growth over the past two years. As the company prepares to expand into additional regions and optimise its current operations, senior leadership requires an introductory business intelligence report summarising key sales performance trends.\n",
    "Your role as a newly onboarded data analyst is to perform an initial data exploration and create a report that answers foundational business questions using the attached sales dataset.\n",
    "##### Business Impact\n",
    "This report will serve as a baseline to identify regional performance gaps, customer behaviour patterns, and product category profitability, helping the executive team focus on high-impact areas in subsequent strategy sessions."
   ]
  },
  {
   "cell_type": "code",
   "execution_count": 141,
   "id": "ce397f60-ffd0-4fc6-b6aa-5bf092b45636",
   "metadata": {},
   "outputs": [],
   "source": [
    "#Import libraries\n",
    "import pandas as pd\n",
    "import seaborn as sns\n",
    "import numpy as np\n",
    "%matplotlib inline\n",
    "import matplotlib.pyplot as plt"
   ]
  },
  {
   "cell_type": "code",
   "execution_count": null,
   "id": "d3ba2a65-13e0-48de-a8c3-462adc257070",
   "metadata": {},
   "outputs": [],
   "source": [
    "# read Datasets\n",
    "retail_data = pd.read_csv(\"Ace Superstore Retail Dataset.csv\", encoding='latin1')\n",
    "StoreLocations_data = pd.read_csv(\"Store Locations.csv\", encoding='latin1')"
   ]
  },
  {
   "cell_type": "markdown",
   "id": "539055d9-3fd8-4a94-8a9b-d87eb39a9087",
   "metadata": {
    "jp-MarkdownHeadingCollapsed": true
   },
   "source": [
    "## Assessing Data"
   ]
  },
  {
   "cell_type": "code",
   "execution_count": null,
   "id": "aac5985a-d9aa-49d3-b74b-e016eb49eb0a",
   "metadata": {},
   "outputs": [],
   "source": [
    "retail_data.head(10)"
   ]
  },
  {
   "cell_type": "code",
   "execution_count": null,
   "id": "a50b98a1-c91d-4135-9b82-0536d1568edb",
   "metadata": {},
   "outputs": [],
   "source": [
    "retail_data.info()"
   ]
  },
  {
   "cell_type": "code",
   "execution_count": null,
   "id": "0f65bc3c-3588-4acf-a581-3a6847318db1",
   "metadata": {},
   "outputs": [],
   "source": [
    "retail_data.describe()"
   ]
  },
  {
   "cell_type": "code",
   "execution_count": null,
   "id": "3e9899c8-aa65-4f62-9a1f-f4680268c633",
   "metadata": {},
   "outputs": [],
   "source": [
    "retail_data.info()"
   ]
  },
  {
   "cell_type": "code",
   "execution_count": null,
   "id": "d0a030b5-0454-4d43-a204-8f0fdc7c8574",
   "metadata": {},
   "outputs": [],
   "source": [
    "StoreLocations_data.head()"
   ]
  },
  {
   "cell_type": "code",
   "execution_count": null,
   "id": "cc3f286d-faf5-450f-8975-ba46e12e4e14",
   "metadata": {},
   "outputs": [],
   "source": [
    "StoreLocations_data.info()"
   ]
  },
  {
   "cell_type": "markdown",
   "id": "d72c86e9-f537-45b0-be0f-03a6b1432db1",
   "metadata": {},
   "source": [
    "## Data Cleaning"
   ]
  },
  {
   "cell_type": "markdown",
   "id": "9fb9c275-8044-44a4-9dd9-dd5010c63a82",
   "metadata": {},
   "source": [
    "#### Normalisation - Remove the following columns because:\n",
    "\n",
    "1. They exist in the store location table.\n",
    "2. They also have some missing values in the retail table.\n",
    "\n",
    "Columns: Region, City, Country"
   ]
  },
  {
   "cell_type": "code",
   "execution_count": null,
   "id": "dc88f5b4-e6ee-401a-a4e6-17f6f5048878",
   "metadata": {},
   "outputs": [],
   "source": [
    "retail_data.drop(columns=['Region', 'City', 'Country'], inplace=True)\n",
    "retail_data.info()"
   ]
  },
  {
   "cell_type": "markdown",
   "id": "78e597e7-5bda-4142-8cdf-479df53dc482",
   "metadata": {},
   "source": [
    "#### Create a relationship between retail_data and StoreLocations_data"
   ]
  },
  {
   "cell_type": "code",
   "execution_count": null,
   "id": "90a5c5e1-1202-4799-86dc-d8ae19f152c9",
   "metadata": {},
   "outputs": [],
   "source": [
    "merged_data = pd.merge(retail_data, StoreLocations_data, on='Postal Code', how='left')"
   ]
  },
  {
   "cell_type": "code",
   "execution_count": null,
   "id": "6b54d66e-eee4-42e4-a46e-b56ec349b01a",
   "metadata": {},
   "outputs": [],
   "source": [
    "merged_data.head()"
   ]
  },
  {
   "cell_type": "code",
   "execution_count": null,
   "id": "e845f18c-af98-4534-b110-df7f0e120a90",
   "metadata": {},
   "outputs": [],
   "source": [
    "# Assume your DataFrame is named df\n",
    "mergedsplited_data = merged_data['Category'].str.split(' - ', n=1, expand=True)\n",
    "\n",
    "# Assign to new columns\n",
    "merged_data['NewCategory'] = split_cols[0]\n",
    "merged_data['Segment'] = split_cols[1].fillna(split_cols[0])"
   ]
  },
  {
   "cell_type": "code",
   "execution_count": null,
   "id": "27ee3702-ba6c-45bb-962b-b14729ff777d",
   "metadata": {},
   "outputs": [],
   "source": [
    "merged_data['Region'] = merged_data['Region'].replace('Yorkshire & the Humber', 'Yorkshire and the Humber')"
   ]
  },
  {
   "cell_type": "code",
   "execution_count": null,
   "id": "22c862de-4f45-4004-a0ff-5ad0b4a28c88",
   "metadata": {},
   "outputs": [],
   "source": [
    "# Assuming merged_data is your dataframe\n",
    "merged_data['Revenue'] = merged_data['Sales'] - (merged_data['Discount'] * merged_data['Sales'])"
   ]
  },
  {
   "cell_type": "code",
   "execution_count": 156,
   "id": "72b408d4-ee35-4b4c-a76b-7b6b666b1b8c",
   "metadata": {},
   "outputs": [
    {
     "data": {
      "text/html": [
       "<div>\n",
       "<style scoped>\n",
       "    .dataframe tbody tr th:only-of-type {\n",
       "        vertical-align: middle;\n",
       "    }\n",
       "\n",
       "    .dataframe tbody tr th {\n",
       "        vertical-align: top;\n",
       "    }\n",
       "\n",
       "    .dataframe thead th {\n",
       "        text-align: right;\n",
       "    }\n",
       "</style>\n",
       "<table border=\"1\" class=\"dataframe\">\n",
       "  <thead>\n",
       "    <tr style=\"text-align: right;\">\n",
       "      <th></th>\n",
       "      <th>Order ID</th>\n",
       "      <th>Order Date</th>\n",
       "      <th>Order Mode</th>\n",
       "      <th>Customer ID</th>\n",
       "      <th>Postal Code</th>\n",
       "      <th>Product ID</th>\n",
       "      <th>Product Name</th>\n",
       "      <th>Category</th>\n",
       "      <th>Sub-Category</th>\n",
       "      <th>Sales</th>\n",
       "      <th>...</th>\n",
       "      <th>Discount</th>\n",
       "      <th>City</th>\n",
       "      <th>Country</th>\n",
       "      <th>Region</th>\n",
       "      <th>NewCategory</th>\n",
       "      <th>Segment</th>\n",
       "      <th>Revenue</th>\n",
       "      <th>Total_Cost</th>\n",
       "      <th>Gross_Profit</th>\n",
       "      <th>Profit_Margin_%</th>\n",
       "    </tr>\n",
       "  </thead>\n",
       "  <tbody>\n",
       "    <tr>\n",
       "      <th>0</th>\n",
       "      <td>BTC-245712</td>\n",
       "      <td>6/22/2024</td>\n",
       "      <td>Online</td>\n",
       "      <td>LO028977</td>\n",
       "      <td>S8</td>\n",
       "      <td>01JZ3N512GHNAJSF3HCCQ0PQYY</td>\n",
       "      <td>Flavored Popcorn Mix</td>\n",
       "      <td>Food - Snacks</td>\n",
       "      <td>Gourmet Snacks</td>\n",
       "      <td>2.99</td>\n",
       "      <td>...</td>\n",
       "      <td>0.24</td>\n",
       "      <td>Norton</td>\n",
       "      <td>England</td>\n",
       "      <td>Yorkshire and the Humber</td>\n",
       "      <td>Food</td>\n",
       "      <td>Snacks</td>\n",
       "      <td>2.2724</td>\n",
       "      <td>3.588</td>\n",
       "      <td>-0.598</td>\n",
       "      <td>-20.0</td>\n",
       "    </tr>\n",
       "    <tr>\n",
       "      <th>1</th>\n",
       "      <td>NZR-891212</td>\n",
       "      <td>3/15/2024</td>\n",
       "      <td>In-Store</td>\n",
       "      <td>OH046670</td>\n",
       "      <td>DN36</td>\n",
       "      <td>01JZ3N56DDVK7Y600QGH2M6T1X</td>\n",
       "      <td>Olive Oil</td>\n",
       "      <td>Food - Condiments</td>\n",
       "      <td>Cooking Oils</td>\n",
       "      <td>7.99</td>\n",
       "      <td>...</td>\n",
       "      <td>0.32</td>\n",
       "      <td>West End</td>\n",
       "      <td>England</td>\n",
       "      <td>East Midlands</td>\n",
       "      <td>Food</td>\n",
       "      <td>Condiments</td>\n",
       "      <td>5.4332</td>\n",
       "      <td>38.352</td>\n",
       "      <td>-30.362</td>\n",
       "      <td>-380.0</td>\n",
       "    </tr>\n",
       "    <tr>\n",
       "      <th>2</th>\n",
       "      <td>TDN-811093</td>\n",
       "      <td>2/29/2024</td>\n",
       "      <td>Online</td>\n",
       "      <td>FH015492</td>\n",
       "      <td>RG20</td>\n",
       "      <td>01JZ3N53A64TW72TVK28SMMXKX</td>\n",
       "      <td>Children's Backpack</td>\n",
       "      <td>Accessories</td>\n",
       "      <td>Kids' Bags</td>\n",
       "      <td>29.99</td>\n",
       "      <td>...</td>\n",
       "      <td>0.09</td>\n",
       "      <td>Newtown</td>\n",
       "      <td>England</td>\n",
       "      <td>South East</td>\n",
       "      <td>Accessories</td>\n",
       "      <td>Accessories</td>\n",
       "      <td>27.2909</td>\n",
       "      <td>17.994</td>\n",
       "      <td>11.996</td>\n",
       "      <td>40.0</td>\n",
       "    </tr>\n",
       "    <tr>\n",
       "      <th>3</th>\n",
       "      <td>MIX-746378</td>\n",
       "      <td>10/25/2024</td>\n",
       "      <td>In-Store</td>\n",
       "      <td>ZZ015342</td>\n",
       "      <td>BH21</td>\n",
       "      <td>01JZ3N572S4RVA29Y33YRWH174</td>\n",
       "      <td>Honey Butter Popcorn</td>\n",
       "      <td>Food - Snacks</td>\n",
       "      <td>Gourmet Snacks</td>\n",
       "      <td>2.99</td>\n",
       "      <td>...</td>\n",
       "      <td>0.01</td>\n",
       "      <td>East End</td>\n",
       "      <td>England</td>\n",
       "      <td>North West</td>\n",
       "      <td>Food</td>\n",
       "      <td>Snacks</td>\n",
       "      <td>2.9601</td>\n",
       "      <td>3.588</td>\n",
       "      <td>-0.598</td>\n",
       "      <td>-20.0</td>\n",
       "    </tr>\n",
       "    <tr>\n",
       "      <th>4</th>\n",
       "      <td>UGI-201465</td>\n",
       "      <td>8/18/2024</td>\n",
       "      <td>Online</td>\n",
       "      <td>TV075977</td>\n",
       "      <td>LE15</td>\n",
       "      <td>01JZ3N52RT7CJNB27BFS6H8BF7</td>\n",
       "      <td>Sliced Cucumbers</td>\n",
       "      <td>Food - Produce</td>\n",
       "      <td>Fresh Cut Vegetables</td>\n",
       "      <td>1.29</td>\n",
       "      <td>...</td>\n",
       "      <td>0.34</td>\n",
       "      <td>Seaton</td>\n",
       "      <td>England</td>\n",
       "      <td>East Midlands</td>\n",
       "      <td>Food</td>\n",
       "      <td>Produce</td>\n",
       "      <td>0.8514</td>\n",
       "      <td>4.257</td>\n",
       "      <td>-2.967</td>\n",
       "      <td>-230.0</td>\n",
       "    </tr>\n",
       "  </tbody>\n",
       "</table>\n",
       "<p>5 rows × 22 columns</p>\n",
       "</div>"
      ],
      "text/plain": [
       "     Order ID  Order Date Order Mode Customer ID Postal Code  \\\n",
       "0  BTC-245712   6/22/2024     Online    LO028977          S8   \n",
       "1  NZR-891212   3/15/2024   In-Store    OH046670        DN36   \n",
       "2  TDN-811093   2/29/2024     Online    FH015492        RG20   \n",
       "3  MIX-746378  10/25/2024   In-Store    ZZ015342        BH21   \n",
       "4  UGI-201465   8/18/2024     Online    TV075977        LE15   \n",
       "\n",
       "                   Product ID          Product Name           Category  \\\n",
       "0  01JZ3N512GHNAJSF3HCCQ0PQYY  Flavored Popcorn Mix      Food - Snacks   \n",
       "1  01JZ3N56DDVK7Y600QGH2M6T1X             Olive Oil  Food - Condiments   \n",
       "2  01JZ3N53A64TW72TVK28SMMXKX   Children's Backpack        Accessories   \n",
       "3  01JZ3N572S4RVA29Y33YRWH174  Honey Butter Popcorn      Food - Snacks   \n",
       "4  01JZ3N52RT7CJNB27BFS6H8BF7      Sliced Cucumbers     Food - Produce   \n",
       "\n",
       "           Sub-Category  Sales  ...  Discount      City  Country  \\\n",
       "0        Gourmet Snacks   2.99  ...      0.24    Norton  England   \n",
       "1          Cooking Oils   7.99  ...      0.32  West End  England   \n",
       "2            Kids' Bags  29.99  ...      0.09   Newtown  England   \n",
       "3        Gourmet Snacks   2.99  ...      0.01  East End  England   \n",
       "4  Fresh Cut Vegetables   1.29  ...      0.34    Seaton  England   \n",
       "\n",
       "                     Region  NewCategory      Segment  Revenue Total_Cost  \\\n",
       "0  Yorkshire and the Humber         Food       Snacks   2.2724      3.588   \n",
       "1             East Midlands         Food   Condiments   5.4332     38.352   \n",
       "2                South East  Accessories  Accessories  27.2909     17.994   \n",
       "3                North West         Food       Snacks   2.9601      3.588   \n",
       "4             East Midlands         Food      Produce   0.8514      4.257   \n",
       "\n",
       "   Gross_Profit  Profit_Margin_%  \n",
       "0        -0.598            -20.0  \n",
       "1       -30.362           -380.0  \n",
       "2        11.996             40.0  \n",
       "3        -0.598            -20.0  \n",
       "4        -2.967           -230.0  \n",
       "\n",
       "[5 rows x 22 columns]"
      ]
     },
     "execution_count": 156,
     "metadata": {},
     "output_type": "execute_result"
    }
   ],
   "source": [
    "merged_data.head()"
   ]
  },
  {
   "cell_type": "code",
   "execution_count": 157,
   "id": "733f6be6-0d79-42f6-a5af-0a7e299c49b5",
   "metadata": {},
   "outputs": [
    {
     "name": "stdout",
     "output_type": "stream",
     "text": [
      "40\n"
     ]
    }
   ],
   "source": [
    "distinct_count = merged_data['NewCategory'].nunique()\n",
    "print(distinct_count)"
   ]
  },
  {
   "cell_type": "markdown",
   "id": "9dc28ac8-40c9-433c-99a6-359ff32e611a",
   "metadata": {},
   "source": [
    "## Analysis Tasks"
   ]
  },
  {
   "cell_type": "markdown",
   "id": "74f9b745-0ee4-4688-a0ef-ddb89a0edbeb",
   "metadata": {},
   "source": [
    "### 1. Summarize total sales, revenue, and discount rates by region and segment"
   ]
  },
  {
   "cell_type": "code",
   "execution_count": null,
   "id": "ce2a2a59-f1d2-477e-a62b-f5fffddd5474",
   "metadata": {},
   "outputs": [],
   "source": []
  },
  {
   "cell_type": "code",
   "execution_count": null,
   "id": "38ffaa99-67ab-43c9-951a-cf4ee1e5d605",
   "metadata": {},
   "outputs": [],
   "source": [
    "summary = merged_data.groupby(['Region']).agg(\n",
    "    Total_Sales=('Sales', 'sum'),\n",
    "    Total_Revenue=('Revenue', 'sum'),\n",
    "    Average_DiscountRate=('Discount', 'mean')\n",
    ").reset_index()\n",
    "print(summary)"
   ]
  },
  {
   "cell_type": "markdown",
   "id": "183843a7-a60f-42e4-8665-4c61d0f7815a",
   "metadata": {},
   "source": [
    "### 2. Identify top 5 best-selling products and underperforming products by revenue"
   ]
  },
  {
   "cell_type": "code",
   "execution_count": null,
   "id": "5ea924b7-85d6-4232-acd2-d50d3bd9fabb",
   "metadata": {},
   "outputs": [],
   "source": [
    "product_revenue = merged_data.groupby('Product Name')['Revenue'].sum().reset_index()\n",
    "top_5_products = product_revenue.sort_values(by='Revenue', ascending=False).head(5)"
   ]
  },
  {
   "cell_type": "code",
   "execution_count": null,
   "id": "38be124d-cc48-4223-95f2-8767d0aeaa46",
   "metadata": {},
   "outputs": [],
   "source": [
    "bottom_5_products = product_revenue.sort_values(by='Revenue', ascending=True).head(5)"
   ]
  },
  {
   "cell_type": "code",
   "execution_count": 123,
   "id": "1a6cb129-24c1-4580-8d39-7203a48d9265",
   "metadata": {},
   "outputs": [
    {
     "name": "stdout",
     "output_type": "stream",
     "text": [
      "Top 5 Best-Selling Products by Revenue:\n",
      "                       Product Name    Revenue\n",
      "1200  Portable Refrigerator Freezer  3829.1673\n",
      "443                  Digital Camera  3563.4250\n",
      "484                   Electric Bike  3536.4957\n",
      "1204       Portable Solar Generator  2970.6507\n",
      "363          Compact Digital Camera  2593.3119\n",
      "\n",
      "Bottom 5 Underperforming Products by Revenue:\n",
      "                  Product Name  Revenue\n",
      "1451                Spiralizer   0.0000\n",
      "598     Frozen Chicken Nuggets   0.0000\n",
      "238     Chic Ankle Strap Heels   0.0000\n",
      "1715  Workstation Laptop Stand   0.0000\n",
      "188         Canned Black Beans   0.9417\n"
     ]
    }
   ],
   "source": [
    "print(\"Top 5 Best-Selling Products by Revenue:\")\n",
    "print(top_5_products)\n",
    "\n",
    "print(\"\\nBottom 5 Underperforming Products by Revenue:\")\n",
    "print(bottom_5_products)\n"
   ]
  },
  {
   "cell_type": "code",
   "execution_count": 181,
   "id": "e9bc34af-be9e-4d1b-9f43-e2c3edfb2b7b",
   "metadata": {
    "scrolled": true
   },
   "outputs": [
    {
     "data": {
      "image/png": "[encoded data removed]",
      "text/plain": [
       "<Figure size 800x500 with 1 Axes>"
      ]
     },
     "metadata": {},
     "output_type": "display_data"
    }
   ],
   "source": [
    "# Bar Chart with data labels\n",
    "top_5_products = product_revenue.sort_values(by='Revenue', ascending=False).head(5)\n",
    "\n",
    "plt.figure(figsize=(8, 5))\n",
    "ax = sns.barplot(\n",
    "    data=top_5_products,\n",
    "    x='Revenue',\n",
    "    y='Product Name',\n",
    "    hue='Product Name',         # Assign y-axis to hue\n",
    "    palette='Blues_d',\n",
    "    legend=False                # Hide the legend\n",
    ")\n",
    "\n",
    "# Add data labels on the bars\n",
    "for patch in ax.patches:\n",
    "    width = patch.get_width()\n",
    "    ax.text(\n",
    "        width + 0.01 * top_5_products['Revenue'].max(),\n",
    "        patch.get_y() + patch.get_height() / 2,\n",
    "        f\"£{width:,.0f}\",\n",
    "        va='center'\n",
    "    )\n",
    "\n",
    "ax.set_title('Top 5 Products by Revenue')\n",
    "ax.set_xlabel('')\n",
    "ax.set_ylabel('Product')\n",
    "plt.tight_layout()\n",
    "plt.show()"
   ]
  },
  {
   "cell_type": "markdown",
   "id": "b81dc969-b955-49b8-a906-5a68e766f431",
   "metadata": {},
   "source": [
    "### 3. Provide insights into product categories with highest margins"
   ]
  },
  {
   "cell_type": "code",
   "execution_count": 168,
   "id": "5915e06c-7a68-46d8-9b79-c89be2fbcc18",
   "metadata": {},
   "outputs": [],
   "source": [
    "# Step 1: Compute Gross Profit and Margin per row\n",
    "merged_data['Total_Cost'] = merged_data['Cost Price']\n",
    "merged_data['Gross_Profit'] = merged_data['Sales'] - merged_data['Total_Cost']\n",
    "merged_data['Profit_Margin_%'] = (merged_data['Gross_Profit'] / merged_data['Sales']) * 100"
   ]
  },
  {
   "cell_type": "code",
   "execution_count": 169,
   "id": "6fdb2f05-511a-460d-a3ba-70c4a2ef8b2f",
   "metadata": {},
   "outputs": [],
   "source": [
    "# Step 2: Aggregate by category\n",
    "category_margin = merged_data.groupby('NewCategory').agg({\n",
    "    'Sales': 'sum',\n",
    "    'Total_Cost': 'sum',\n",
    "    'Gross_Profit': 'sum'\n",
    "}).reset_index()\n",
    "\n",
    "# Step 3: Calculate margin percentage for each category\n",
    "category_margin['Profit_Margin_%'] = (category_margin['Gross_Profit'] / category_margin['Sales']) * 100\n"
   ]
  },
  {
   "cell_type": "code",
   "execution_count": 170,
   "id": "b6b01f39-d4e6-47c1-814e-c05f224db8d1",
   "metadata": {},
   "outputs": [],
   "source": [
    "# Sort by highest margin and select top 5\n",
    "top_margin_categories = category_margin.sort_values(by='Profit_Margin_%', ascending=False).head(5)"
   ]
  },
  {
   "cell_type": "code",
   "execution_count": 171,
   "id": "8e5a673d-0051-4399-9f24-3a4ba16772e7",
   "metadata": {},
   "outputs": [
    {
     "name": "stdout",
     "output_type": "stream",
     "text": [
      "      NewCategory  Profit_Margin_%  Gross_Profit    Sales\n",
      "20       Grooming        70.362424        48.536    68.98\n",
      "5            Baby        70.192751       362.707   516.73\n",
      "35        Storage        70.142157       735.188  1048.14\n",
      "39  Wearable Tech        70.041239      1664.453  2376.39\n",
      "25  Home Security        69.987030      1958.713  2798.68\n"
     ]
    }
   ],
   "source": [
    "print(top_margin_categories[['NewCategory', 'Profit_Margin_%', 'Gross_Profit', 'Sales']])"
   ]
  },
  {
   "cell_type": "code",
   "execution_count": 172,
   "id": "070d2b64-b5db-43f3-9cf2-93939ae63645",
   "metadata": {},
   "outputs": [
    {
     "data": {
      "image/png": "[encoded data removed]",
      "text/plain": [
       "<Figure size 800x500 with 1 Axes>"
      ]
     },
     "metadata": {},
     "output_type": "display_data"
    }
   ],
   "source": [
    "# Ensure categories are ASCII-only\n",
    "top_margin_categories['NewCategory'] = (\n",
    "    top_margin_categories['NewCategory']\n",
    "    .str.encode('ascii', 'ignore')\n",
    "    .str.decode('ascii')\n",
    ")\n",
    "\n",
    "plt.figure(figsize=(8, 5))\n",
    "ax = sns.barplot(\n",
    "    data=top_margin_categories.sort_values('Profit_Margin_%', ascending=False),\n",
    "    x='Profit_Margin_%',\n",
    "    y='NewCategory',\n",
    "    color='green'\n",
    ")\n",
    "\n",
    "# Add data labels\n",
    "for patch in ax.patches:\n",
    "    width = patch.get_width()\n",
    "    ax.text(\n",
    "        width + 1,\n",
    "        patch.get_y() + patch.get_height() / 2,\n",
    "        f\"{width:.1f}%\", \n",
    "        va='center'\n",
    "    )\n",
    "\n",
    "ax.set_title('Top 5 Product Categories by Profit Margin (%)')\n",
    "ax.set_xlabel('')  # Remove x-axis label\n",
    "ax.set_ylabel('Product Category')\n",
    "plt.tight_layout()\n",
    "plt.show()"
   ]
  },
  {
   "cell_type": "markdown",
   "id": "68247c08-27c7-4eaf-8247-4f3a59d15766",
   "metadata": {},
   "source": [
    "### 4. Analyze sales distribution across Order Mode (Online vs In-Store)"
   ]
  },
  {
   "cell_type": "code",
   "execution_count": 122,
   "id": "b8962552-6a56-4eb6-98f9-1d27b1f9812e",
   "metadata": {},
   "outputs": [
    {
     "name": "stdout",
     "output_type": "stream",
     "text": [
      "  Order Mode      Sales  Percentage\n",
      "0   In-Store  145746.63   48.367145\n",
      "1     Online  155587.32   51.632855\n"
     ]
    }
   ],
   "source": [
    "# Group total sales by Order Mode\n",
    "sales_by_order_mode = merged_data.groupby('Order Mode')['Sales'].sum().reset_index()\n",
    "\n",
    "sales_by_order_mode['Percentage'] = (\n",
    "    sales_by_order_mode['Sales'] / sales_by_order_mode['Sales'].sum()\n",
    ") * 100\n",
    "print(sales_by_order_mode)"
   ]
  },
  {
   "cell_type": "code",
   "execution_count": 173,
   "id": "b4874982-0fd3-4d6d-b09e-b47a19575693",
   "metadata": {},
   "outputs": [
    {
     "data": {
      "image/png": "[encoded data removed]",
      "text/plain": [
       "<Figure size 600x400 with 1 Axes>"
      ]
     },
     "metadata": {},
     "output_type": "display_data"
    },
    {
     "data": {
      "image/png": "[encoded data removed]",
      "text/plain": [
       "<Figure size 500x500 with 1 Axes>"
      ]
     },
     "metadata": {},
     "output_type": "display_data"
    }
   ],
   "source": [
    "# Bar Chart with data labels\n",
    "plt.figure(figsize=(6, 4))\n",
    "bars = plt.bar(sales_by_order_mode['Order Mode'], sales_by_order_mode['Sales'], color=['#007acc', '#ff5733'])\n",
    "plt.title(\"Sales Distribution by Order Mode\")\n",
    "plt.xticks([])  # Remove x-axis tick labels\n",
    "plt.ylabel(\"\")  # Remove y-axis label\n",
    "\n",
    "# Add data labels directly on top of each bar\n",
    "for bar, label in zip(bars, sales_by_order_mode['Order Mode']):\n",
    "    height = bar.get_height()\n",
    "    plt.text(\n",
    "        bar.get_x() + bar.get_width() / 2, \n",
    "        height - 0.5 * height, \n",
    "        f\"{label}\\n£{height:,.2f}\", \n",
    "        ha='center', va='bottom', fontsize=10, fontweight='bold'\n",
    "    )\n",
    "\n",
    "\n",
    "plt.tight_layout()\n",
    "plt.show()\n",
    "\n",
    "# Pie Chart\n",
    "plt.figure(figsize=(5, 5))\n",
    "plt.pie(\n",
    "    sales_by_order_mode['Sales'],\n",
    "    labels=sales_by_order_mode['Order Mode'],\n",
    "    autopct='%1.1f%%',\n",
    "    colors=['#007acc', '#ff5733']\n",
    ")\n",
    "plt.title(\"Sales Share: Online vs In-Store\")\n",
    "plt.show()"
   ]
  }
 ],
 "metadata": {
  "kernelspec": {
   "display_name": "Python 3 (ipykernel)",
   "language": "python",
   "name": "python3"
  },
  "language_info": {
   "codemirror_mode": {
    "name": "ipython",
    "version": 3
   },
   "file_extension": ".py",
   "mimetype": "text/x-python",
   "name": "python",
   "nbconvert_exporter": "python",
   "pygments_lexer": "ipython3",
   "version": "3.12.7"
  }
 },
 "nbformat": 4,
 "nbformat_minor": 5
}
